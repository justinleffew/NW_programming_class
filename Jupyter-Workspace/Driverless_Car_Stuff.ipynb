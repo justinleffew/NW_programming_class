{
 "cells": [
  {
   "cell_type": "code",
   "execution_count": 3,
   "id": "4e1ca767-c393-4359-a35e-015a66ae0cf7",
   "metadata": {},
   "outputs": [
    {
     "name": "stdout",
     "output_type": "stream",
     "text": [
      "Oh no! The driver's asleep! What do we do?\n",
      "\n",
      "All is good. Auto-pilot initiated.\n"
     ]
    }
   ],
   "source": [
    "driverless_car = True\n",
    "\n",
    "if driverless_car == True:\n",
    "    # Do something\n",
    "    print(\"Oh no! The driver's asleep! What do we do?\")\n",
    "    print()\n",
    "    print(\"All is good. Auto-pilot initiated.\")\n",
    "else: \n",
    "    # Do something else\n",
    "    print(\"Oh no! The driver's asleep! MAYDAY!\")"
   ]
  },
  {
   "cell_type": "code",
   "execution_count": null,
   "id": "5b8e1109-a671-41ac-b3db-f8a382eed71f",
   "metadata": {},
   "outputs": [],
   "source": [
    "if not pedestrian:\n",
    "    immediate_action = \"drive\"\n",
    "else:\n",
    "    immediate_action = \"stop\""
   ]
  }
 ],
 "metadata": {
  "kernelspec": {
   "display_name": "Python 3 (ipykernel)",
   "language": "python",
   "name": "python3"
  },
  "language_info": {
   "codemirror_mode": {
    "name": "ipython",
    "version": 3
   },
   "file_extension": ".py",
   "mimetype": "text/x-python",
   "name": "python",
   "nbconvert_exporter": "python",
   "pygments_lexer": "ipython3",
   "version": "3.7.11"
  }
 },
 "nbformat": 4,
 "nbformat_minor": 5
}
