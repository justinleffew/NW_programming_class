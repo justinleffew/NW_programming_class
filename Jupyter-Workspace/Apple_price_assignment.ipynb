{
 "cells": [
  {
   "cell_type": "code",
   "execution_count": 1,
   "id": "6fd0b4f1-e188-4d13-a0ae-b553eda25d9a",
   "metadata": {},
   "outputs": [
    {
     "name": "stdout",
     "output_type": "stream",
     "text": [
      "Hello World\n"
     ]
    }
   ],
   "source": [
    "print(\"Hello World\")"
   ]
  },
  {
   "cell_type": "code",
   "execution_count": 2,
   "id": "c39b1570-5d00-4731-8121-9443196317b9",
   "metadata": {},
   "outputs": [
    {
     "name": "stdout",
     "output_type": "stream",
     "text": [
      "Hello World from a new cell\n"
     ]
    }
   ],
   "source": [
    "print(\"Hello World from a new cell\")"
   ]
  },
  {
   "cell_type": "code",
   "execution_count": 30,
   "id": "aa121935-82c3-4d83-a9da-5be85de1a3c6",
   "metadata": {},
   "outputs": [],
   "source": [
    "original_price = 197.87\n",
    "current_price = 254.32\n",
    "increase = (current_price - original_price)"
   ]
  },
  {
   "cell_type": "code",
   "execution_count": 39,
   "id": "9ce03af9-c0a6-4b84-b470-be9d30e63b14",
   "metadata": {},
   "outputs": [],
   "source": [
    "Percent_Increase = (increase/original_price)*100"
   ]
  },
  {
   "cell_type": "code",
   "execution_count": 40,
   "id": "2161ff72-4755-48ed-8e44-88b677fa480c",
   "metadata": {
    "tags": []
   },
   "outputs": [
    {
     "name": "stdout",
     "output_type": "stream",
     "text": [
      "Apple's original stock price was $197.87\n"
     ]
    }
   ],
   "source": [
    "#print original_price\n",
    "print(f\"Apple's original stock price was ${original_price}\")"
   ]
  },
  {
   "cell_type": "code",
   "execution_count": 41,
   "id": "49e9b496-d24c-41b9-97c5-6b13a20245f0",
   "metadata": {},
   "outputs": [
    {
     "name": "stdout",
     "output_type": "stream",
     "text": [
      "Apple's current stock price is $254.32\n"
     ]
    }
   ],
   "source": [
    "#print current_price\n",
    "print(f\"Apple's current stock price is ${current_price}\")"
   ]
  },
  {
   "cell_type": "code",
   "execution_count": 42,
   "id": "d6fc5c95-68e1-4073-a765-27d15442f670",
   "metadata": {},
   "outputs": [
    {
     "name": "stdout",
     "output_type": "stream",
     "text": [
      "The percentage increase in Apple's stock price is 28.528832061454484\n"
     ]
    }
   ],
   "source": [
    "#print percent_increase\n",
    "print(f\"The percentage increase in Apple's stock price is {Percent_Increase}\")"
   ]
  },
  {
   "cell_type": "code",
   "execution_count": 43,
   "id": "9b79a1c2-4c4d-4d57-a02d-38358ad86a82",
   "metadata": {},
   "outputs": [
    {
     "name": "stdout",
     "output_type": "stream",
     "text": [
      "197.87\n"
     ]
    }
   ],
   "source": [
    "print(original_price)"
   ]
  },
  {
   "cell_type": "code",
   "execution_count": 44,
   "id": "59aa43cb-6130-4bfe-9506-f606388eac50",
   "metadata": {},
   "outputs": [
    {
     "name": "stdout",
     "output_type": "stream",
     "text": [
      "28.528832061454484\n"
     ]
    }
   ],
   "source": [
    "print(Percent_Increase)"
   ]
  },
  {
   "cell_type": "code",
   "execution_count": 45,
   "id": "0e7fde84-43fb-440d-87f4-831d901bdff1",
   "metadata": {},
   "outputs": [
    {
     "name": "stdout",
     "output_type": "stream",
     "text": [
      "56.44999999999999\n"
     ]
    }
   ],
   "source": [
    "print(increase)"
   ]
  },
  {
   "cell_type": "code",
   "execution_count": 46,
   "id": "47d46f4b-ff2a-48d1-9708-f7a478cc9d75",
   "metadata": {},
   "outputs": [
    {
     "name": "stdout",
     "output_type": "stream",
     "text": [
      "56.44999999999999\n"
     ]
    }
   ],
   "source": [
    "print(increase)"
   ]
  },
  {
   "cell_type": "code",
   "execution_count": 49,
   "id": "2e450a20-3654-40e5-b313-bd9447bbc773",
   "metadata": {},
   "outputs": [
    {
     "data": {
      "text/plain": [
       "'result:    2.9e+01'"
      ]
     },
     "execution_count": 49,
     "metadata": {},
     "output_type": "execute_result"
    }
   ],
   "source": [
    ">>> width = 10\n",
    ">>> precision = 2\n",
    ">>> value = Percent_Increase\n",
    ">>> f'result: {value: {width}.{precision}}'"
   ]
  },
  {
   "cell_type": "code",
   "execution_count": null,
   "id": "3a0187ac-4f67-48c2-a8f2-74cc59f83da1",
   "metadata": {},
   "outputs": [],
   "source": []
  }
 ],
 "metadata": {
  "kernelspec": {
   "display_name": "Python 3 (ipykernel)",
   "language": "python",
   "name": "python3"
  },
  "language_info": {
   "codemirror_mode": {
    "name": "ipython",
    "version": 3
   },
   "file_extension": ".py",
   "mimetype": "text/x-python",
   "name": "python",
   "nbconvert_exporter": "python",
   "pygments_lexer": "ipython3",
   "version": "3.7.11"
  }
 },
 "nbformat": 4,
 "nbformat_minor": 5
}
